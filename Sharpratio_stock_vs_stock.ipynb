{
  "nbformat": 4,
  "nbformat_minor": 0,
  "metadata": {
    "colab": {
      "provenance": []
    },
    "kernelspec": {
      "name": "python3",
      "display_name": "Python 3"
    },
    "language_info": {
      "name": "python"
    }
  },
  "cells": [
    {
      "cell_type": "code",
      "source": [
        "import yfinance as yf\n",
        "import pandas as pd\n",
        "from datetime import datetime, timedelta\n",
        "import numpy as np\n",
        "from scipy.optimize import minimize\n",
        "\n",
        "def fetch_stock_data(ticker, start_date, end_date):\n",
        "    data = yf.download(ticker, start=start_date, end=end_date)\n",
        "    return data['Adj Close']\n",
        "\n",
        "def calculate_daily_returns(stock_data):\n",
        "    return stock_data.pct_change().dropna()\n",
        "\n",
        "def calculate_annual_returns(daily_returns):\n",
        "    return (1 + daily_returns.mean()) ** 252 - 1\n",
        "\n",
        "def calculate_volatility(daily_returns):\n",
        "    return daily_returns.std() * np.sqrt(252)\n",
        "\n",
        "def calculate_sharpe_ratio(returns, volatility):\n",
        "    return returns / volatility\n",
        "\n",
        "def objective_function(weights, returns, cov_matrix):\n",
        "    portfolio_return = np.dot(weights, returns)\n",
        "    portfolio_volatility = np.sqrt(np.dot(weights.T, np.dot(cov_matrix, weights)))\n",
        "    return -portfolio_return / portfolio_volatility  # Negative Sharpe ratio for maximization\n",
        "\n",
        "def optimize_portfolio(returns, cov_matrix):\n",
        "    num_assets = len(returns)\n",
        "    initial_weights = np.ones(num_assets) / num_assets  # Equal weights to start with\n",
        "\n",
        "    constraints = ({'type': 'eq', 'fun': lambda weights: np.sum(weights) - 1})  # Sum of weights equals 1\n",
        "\n",
        "    result = minimize(objective_function, initial_weights, args=(returns, cov_matrix),\n",
        "                      method='SLSQP', constraints=constraints)\n",
        "\n",
        "    return result.x\n",
        "\n",
        "if __name__ == \"__main__\":\n",
        "    # Example: Optimizing a portfolio of two stocks (AAPL and TSLA)\n",
        "    tickers = ['HCL', 'INFY']\n",
        "    start_date = datetime.now() - timedelta(days=365)\n",
        "    end_date = datetime.now()\n",
        "\n",
        "    stock_data = pd.concat([fetch_stock_data(ticker, start_date, end_date) for ticker in tickers], axis=1)\n",
        "    stock_data.columns = tickers\n",
        "\n",
        "    daily_returns = calculate_daily_returns(stock_data)\n",
        "    cov_matrix = daily_returns.cov().to_numpy()\n",
        "\n",
        "    annual_returns = calculate_annual_returns(daily_returns)\n",
        "    annual_volatility = calculate_volatility(daily_returns)\n",
        "\n",
        "    optimal_weights = optimize_portfolio(annual_returns, cov_matrix)\n",
        "\n",
        "    print(\"Optimal Weights:\", optimal_weights)\n"
      ],
      "metadata": {
        "colab": {
          "base_uri": "https://localhost:8080/"
        },
        "id": "5VX-quEYv6yS",
        "outputId": "1514f7f0-74aa-4a87-823a-264ee9b7252b"
      },
      "execution_count": null,
      "outputs": [
        {
          "output_type": "stream",
          "name": "stdout",
          "text": [
            "[*********************100%%**********************]  1 of 1 completed\n",
            "[*********************100%%**********************]  1 of 1 completed\n",
            "Optimal Weights: [0.92756492 0.07243508]\n"
          ]
        }
      ]
    }
  ]
}
